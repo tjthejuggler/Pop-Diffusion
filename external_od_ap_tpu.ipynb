{
  "cells": [
    {
      "cell_type": "markdown",
      "metadata": {
        "id": "N6ZDpd9XzFeN"
      },
      "source": [
        "##### Copyright 2018 The TensorFlow Hub Authors.\n",
        "\n",
        "Licensed under the Apache License, Version 2.0 (the \"License\");"
      ]
    },
    {
      "cell_type": "code",
      "execution_count": 4,
      "metadata": {
        "cellView": "both",
        "id": "KUu4vOt5zI9d"
      },
      "outputs": [],
      "source": [
        "# Copyright 2018 The TensorFlow Hub Authors. All Rights Reserved.\n",
        "#\n",
        "# Licensed under the Apache License, Version 2.0 (the \"License\");\n",
        "# you may not use this file except in compliance with the License.\n",
        "# You may obtain a copy of the License at\n",
        "#\n",
        "#     http://www.apache.org/licenses/LICENSE-2.0\n",
        "#\n",
        "# Unless required by applicable law or agreed to in writing, software\n",
        "# distributed under the License is distributed on an \"AS IS\" BASIS,\n",
        "# WITHOUT WARRANTIES OR CONDITIONS OF ANY KIND, either express or implied.\n",
        "# See the License for the specific language governing permissions and\n",
        "# limitations under the License.\n",
        "# =============================================================================="
      ]
    },
    {
      "cell_type": "markdown",
      "metadata": {
        "id": "CxmDMK4yupqg"
      },
      "source": [
        "# Object Detection\n"
      ]
    },
    {
      "cell_type": "markdown",
      "metadata": {
        "id": "MfBg1C5NB3X0"
      },
      "source": [
        "<table class=\"tfo-notebook-buttons\" align=\"left\">\n",
        "  <td>\n",
        "    <a target=\"_blank\" href=\"https://www.tensorflow.org/hub/tutorials/object_detection\"><img src=\"https://www.tensorflow.org/images/tf_logo_32px.png\" />View on TensorFlow.org</a>\n",
        "  </td>\n",
        "  <td>\n",
        "    <a target=\"_blank\" href=\"https://colab.research.google.com/github/tensorflow/hub/blob/master/examples/colab/object_detection.ipynb\"><img src=\"https://www.tensorflow.org/images/colab_logo_32px.png\" />Run in Google Colab</a>\n",
        "  </td>\n",
        "  <td>\n",
        "    <a target=\"_blank\" href=\"https://github.com/tensorflow/hub/blob/master/examples/colab/object_detection.ipynb\"><img src=\"https://www.tensorflow.org/images/GitHub-Mark-32px.png\" />View on GitHub</a>\n",
        "  </td>\n",
        "  <td>\n",
        "    <a href=\"https://storage.googleapis.com/tensorflow_docs/hub/examples/colab/object_detection.ipynb\"><img src=\"https://www.tensorflow.org/images/download_logo_32px.png\" />Download notebook</a>\n",
        "  </td>\n",
        "  <td>\n",
        "    <a href=\"https://tfhub.dev/s?q=google%2Ffaster_rcnn%2Fopenimages_v4%2Finception_resnet_v2%2F1%20OR%20google%2Ffaster_rcnn%2Fopenimages_v4%2Finception_resnet_v2%2F1\"><img src=\"https://www.tensorflow.org/images/hub_logo_32px.png\" />See TF Hub models</a>\n",
        "  </td>\n",
        "</table>"
      ]
    },
    {
      "cell_type": "markdown",
      "metadata": {
        "id": "Sy553YSVmYiK"
      },
      "source": [
        "This Colab demonstrates use of a TF-Hub module trained to perform object detection."
      ]
    },
    {
      "cell_type": "markdown",
      "metadata": {
        "id": "v4XGxDrCkeip"
      },
      "source": [
        "## Setup\n"
      ]
    },
    {
      "cell_type": "code",
      "execution_count": 5,
      "metadata": {
        "id": "__YRa0SfPwU8"
      },
      "outputs": [
        {
          "ename": "ModuleNotFoundError",
          "evalue": "No module named 'google.colab'",
          "output_type": "error",
          "traceback": [
            "\u001b[1;31m---------------------------------------------------------------------------\u001b[0m",
            "\u001b[1;31mModuleNotFoundError\u001b[0m                       Traceback (most recent call last)",
            "\u001b[1;32mc:\\Users\\Hatice ŞEREMET\\projects\\Pop-Diffusion\\object_detection_TPU.ipynb Cell 7'\u001b[0m in \u001b[0;36m<cell line: 1>\u001b[1;34m()\u001b[0m\n\u001b[1;32m----> <a href='vscode-notebook-cell:/c%3A/Users/Hatice%20%C5%9EEREMET/projects/Pop-Diffusion/object_detection_TPU.ipynb#ch0000006?line=0'>1</a>\u001b[0m \u001b[39mfrom\u001b[39;00m \u001b[39mgoogle\u001b[39;00m\u001b[39m.\u001b[39;00m\u001b[39mcolab\u001b[39;00m \u001b[39mimport\u001b[39;00m drive\n\u001b[0;32m      <a href='vscode-notebook-cell:/c%3A/Users/Hatice%20%C5%9EEREMET/projects/Pop-Diffusion/object_detection_TPU.ipynb#ch0000006?line=1'>2</a>\u001b[0m drive\u001b[39m.\u001b[39mmount(\u001b[39m'\u001b[39m\u001b[39m/content/drive\u001b[39m\u001b[39m'\u001b[39m)\n",
            "\u001b[1;31mModuleNotFoundError\u001b[0m: No module named 'google.colab'"
          ]
        }
      ],
      "source": [
        "from google.colab import drive\n",
        "drive.mount('/content/drive')"
      ]
    },
    {
      "cell_type": "code",
      "execution_count": null,
      "metadata": {
        "id": "6cPY9Ou4sWs_"
      },
      "outputs": [],
      "source": [
        "#@title Imports and function definitions\n",
        "\n",
        "# For running inference on the TF-Hub module.\n",
        "import tensorflow as tf\n",
        "\n",
        "import tensorflow_hub as hub\n",
        "\n",
        "# For downloading the image.\n",
        "import matplotlib.pyplot as plt\n",
        "import tempfile\n",
        "from six.moves.urllib.request import urlopen\n",
        "from six import BytesIO\n",
        "\n",
        "# For drawing onto the image.\n",
        "import numpy as np\n",
        "from PIL import Image\n",
        "from PIL import ImageColor\n",
        "from PIL import ImageDraw\n",
        "from PIL import ImageFont\n",
        "from PIL import ImageOps\n",
        "\n",
        "# For measuring the inference time.\n",
        "import time\n",
        "import json\n",
        "\n",
        "import os\n",
        "\n",
        "# Print Tensorflow version\n",
        "print(tf.__version__)\n",
        "\n",
        "# Check available GPU devices.\n",
        "print(\"The following GPU devices are available: %s\" % tf.test.gpu_device_name())"
      ]
    },
    {
      "cell_type": "markdown",
      "metadata": {
        "id": "ZGkrXGy62409"
      },
      "source": [
        "## Example use"
      ]
    },
    {
      "cell_type": "markdown",
      "metadata": {
        "id": "vlA3CftFpRiW"
      },
      "source": [
        "### Helper functions for downloading images and for visualization.\n",
        "\n",
        "Visualization code adapted from [TF object detection API](https://github.com/tensorflow/models/blob/master/research/object_detection/utils/visualization_utils.py) for the simplest required functionality."
      ]
    },
    {
      "cell_type": "code",
      "execution_count": null,
      "metadata": {
        "id": "D9IwDpOtpIHW"
      },
      "outputs": [],
      "source": [
        "def display_image(image):\n",
        "  fig = plt.figure(figsize=(20, 15))\n",
        "  plt.grid(False)\n",
        "  plt.imshow(image)\n",
        "\n",
        "\n",
        "def download_and_resize_image(url, new_width=256, new_height=256,\n",
        "                              display=False):\n",
        "  # _, filename = tempfile.mkstemp(suffix=\".jpg\")\n",
        "  # response = urlopen(url)\n",
        "  # image_data = response.read()\n",
        "  # image_data = BytesIO(image_data)\n",
        "  pil_image = Image.open(url)\n",
        "  pil_image = ImageOps.fit(pil_image, (new_width, new_height), Image.ANTIALIAS)\n",
        "  pil_image_rgb = pil_image.convert(\"RGB\")\n",
        "  pil_image_rgb.save(\"resized.jpeg\", format=\"JPEG\", quality=90)\n",
        "  print(\"Image downloaded to %s.\" % \"resized.jpeg\")\n",
        "  if display:\n",
        "    display_image(pil_image)\n",
        "  return \"resized.jpeg\"\n",
        "\n",
        "\n",
        "def draw_bounding_box_on_image(image,\n",
        "                               ymin,\n",
        "                               xmin,\n",
        "                               ymax,\n",
        "                               xmax,\n",
        "                               color,\n",
        "                               font,\n",
        "                               thickness=4,\n",
        "                               display_str_list=()):\n",
        "  \"\"\"Adds a bounding box to an image.\"\"\"\n",
        "  draw = ImageDraw.Draw(image)\n",
        "  im_width, im_height = image.size\n",
        "  (left, right, top, bottom) = (xmin * im_width, xmax * im_width,\n",
        "                                ymin * im_height, ymax * im_height)\n",
        "  #using left,right,top,bottom, calculate the area of the box\n",
        "  area = abs(right - left) * abs(bottom - top)\n",
        "\n",
        "  draw.line([(left, top), (left, bottom), (right, bottom), (right, top),\n",
        "             (left, top)],\n",
        "            width=thickness,\n",
        "            fill=color)\n",
        "\n",
        "  # If the total height of the display strings added to the top of the bounding\n",
        "  # box exceeds the top of the image, stack the strings below the bounding box\n",
        "  # instead of above.\n",
        "  display_str_heights = [font.getsize(ds)[1] for ds in display_str_list]\n",
        "  # Each display_str has a top and bottom margin of 0.05x.\n",
        "  total_display_str_height = (1 + 2 * 0.05) * sum(display_str_heights)\n",
        "\n",
        "  if top > total_display_str_height:\n",
        "    text_bottom = top\n",
        "  else:\n",
        "    text_bottom = top + total_display_str_height\n",
        "  # Reverse list and print from bottom to top.\n",
        "  for display_str in display_str_list[::-1]:\n",
        "    text_width, text_height = font.getsize(display_str)\n",
        "    margin = np.ceil(0.05 * text_height)\n",
        "    draw.rectangle([(left, text_bottom - text_height - 2 * margin),\n",
        "                    (left + text_width, text_bottom)],\n",
        "                   fill=color)\n",
        "    draw.text((left + margin, text_bottom - text_height - margin),\n",
        "              display_str,\n",
        "              fill=\"black\",\n",
        "              font=font)\n",
        "    text_bottom -= text_height - 2 * margin\n",
        "  return area\n",
        "\n",
        "def draw_boxes(image, boxes, class_names, scores, median_index, max_boxes=10, min_score=0.1):\n",
        "  \"\"\"Overlay labeled boxes on an image with formatted scores and label names.\"\"\"\n",
        "  colors = list(ImageColor.colormap.values())\n",
        "\n",
        "  try:\n",
        "    font = ImageFont.truetype(\"/usr/share/fonts/truetype/liberation/LiberationSansNarrow-Regular.ttf\",\n",
        "                              25)\n",
        "  except IOError:\n",
        "    print(\"Font not found, using default font.\")\n",
        "    font = ImageFont.load_default()\n",
        "\n",
        "  box_areas = []\n",
        "  for i in range(min(boxes.shape[0], max_boxes)):\n",
        "    if i == median_index:\n",
        "    #if scores[i] >= min_score:\n",
        "      ymin, xmin, ymax, xmax = tuple(boxes[i])\n",
        "      display_str = \"{}: {}%\".format(class_names[i].decode(\"ascii\"),\n",
        "                                     int(100 * scores[i]))\n",
        "      color = colors[hash(class_names[i]) % len(colors)]\n",
        "      image_pil = Image.fromarray(np.uint8(image)).convert(\"RGB\")\n",
        "      area = draw_bounding_box_on_image(\n",
        "          image_pil,\n",
        "          ymin,\n",
        "          xmin,\n",
        "          ymax,\n",
        "          xmax,\n",
        "          color,\n",
        "          font,\n",
        "          display_str_list=[display_str])\n",
        "      box_areas.append(area)\n",
        "      np.copyto(image, np.array(image_pil))\n",
        "  return box_areas, image"
      ]
    },
    {
      "cell_type": "markdown",
      "metadata": {
        "id": "D19UCu9Q2-_8"
      },
      "source": [
        "## Apply module\n",
        "\n",
        "Load a public image from Open Images v4, save locally, and display."
      ]
    },
    {
      "cell_type": "code",
      "execution_count": null,
      "metadata": {
        "id": "YLWNhjUY1mhg"
      },
      "outputs": [],
      "source": [
        "# By Heiko Gorski, Source: https://commons.wikimedia.org/wiki/File:Naxos_Taverna.jpg\n",
        "#image_url = \"/content/drive/MyDrive/AI/Disco_Diffusion/images_out/x10_ant_long3/x10_ant_long3(-1)_0969.png\"  #@param\n",
        "#downloaded_image_path = download_and_resize_image(image_url, 1280, 856, True)"
      ]
    },
    {
      "cell_type": "markdown",
      "metadata": {
        "id": "t-VdfLbC1w51"
      },
      "source": [
        "Pick an object detection module and apply on the downloaded image. Modules:\n",
        "* **FasterRCNN+InceptionResNet V2**: high accuracy,\n",
        "* **ssd+mobilenet V2**: small and fast."
      ]
    },
    {
      "cell_type": "code",
      "execution_count": null,
      "metadata": {
        "id": "uazJ5ASc2_QE"
      },
      "outputs": [],
      "source": [
        "module_handle = \"https://tfhub.dev/google/faster_rcnn/openimages_v4/inception_resnet_v2/1\" #@param [\"https://tfhub.dev/google/openimages_v4/ssd/mobilenet_v2/1\", \"https://tfhub.dev/google/faster_rcnn/openimages_v4/inception_resnet_v2/1\"]\n",
        "\n",
        "detector = hub.load(module_handle).signatures['default']\n"
      ]
    },
    {
      "cell_type": "code",
      "execution_count": null,
      "metadata": {
        "id": "znW8Fq1EC0x7"
      },
      "outputs": [],
      "source": [
        "def load_img(path):\n",
        "  img = tf.io.read_file(path)\n",
        "  img = tf.image.decode_jpeg(img, channels=3)\n",
        "  return img"
      ]
    },
    {
      "cell_type": "code",
      "execution_count": null,
      "metadata": {},
      "outputs": [],
      "source": [
        "def run_detector(detector, path):\n",
        "  img = load_img(path)\n",
        "\n",
        "  converted_img  = tf.image.convert_image_dtype(img, tf.float32)[tf.newaxis, ...]\n",
        "  start_time = time.time()\n",
        "  result = detector(converted_img)\n",
        "  end_time = time.time()\n",
        "\n",
        "  result = {key:value.numpy() for key,value in result.items()}\n",
        "\n",
        "  print(\"Found %d objects.\" % len(result[\"detection_scores\"]))\n",
        "  print(\"Inference time: \", end_time-start_time)\n",
        "  image = img.numpy()\n",
        "  image_pil = Image.fromarray(np.uint8(image)).convert(\"RGB\")\n",
        "  im_width, im_height = image_pil.size\n",
        "  result[\"box_areas\"] = []\n",
        "  for i in range(min(result[\"detection_boxes\"].shape[0], 10)):\n",
        "    if result[\"detection_scores\"][i] >= 0.1:\n",
        "      ymin, xmin, ymax, xmax = result[\"detection_boxes\"][i]\n",
        "      (left, right, top, bottom) = (xmin * im_width, xmax * im_width,\n",
        "                                ymin * im_height, ymax * im_height)\n",
        "      result[\"box_areas\"].append(abs(left - right) * abs(top - bottom))\n",
        "  import numpy\n",
        "  median_index = numpy.argsort(result[\"box_areas\"])[len(result[\"box_areas\"])//2]\n",
        "\n",
        "  ymin, xmin, ymax, xmax = result[\"detection_boxes\"][i]\n",
        "  (left, right, top, bottom) = (xmin * im_width, xmax * im_width, ymin * im_height, ymax * im_height)\n",
        "  real_left = min(left, right)\n",
        "  real_right = max(left,right)\n",
        "  real_top = min(bottom, top)\n",
        "  real_bottom = max(bottom,top)\n",
        "  box_width = real_right - real_left\n",
        "  box_height = real_top - real_bottom\n",
        "  hor_center = real_left + (box_width//2)\n",
        "  ver_center = real_top + (box_height//2)\n",
        "  print('im_height', im_height, im_width)\n",
        "  print('winner', result[\"detection_scores\"][median_index], result['box_areas'][median_index], real_left,real_right,real_top,real_bottom, hor_center, ver_center)\n",
        "\n",
        "  coord_file = open(\"/content/drive/MyDrive/AI/Object_Detection/request/center_coordinates.txt\", \"w\")\n",
        "  coord_file.write(str(real_left) +','+ str(real_right) +','+str(real_top) +','+str(real_bottom))\n",
        "  coord_file.close()\n",
        "\n",
        "  box_areas, image_with_boxes = draw_boxes(\n",
        "      image, result[\"detection_boxes\"],\n",
        "      result[\"detection_class_entities\"], result[\"detection_scores\"],median_index)\n",
        "\n",
        "  display_image(image_with_boxes)"
      ]
    },
    {
      "cell_type": "markdown",
      "metadata": {},
      "source": [
        "# Setup Antarctic Prompts"
      ]
    },
    {
      "cell_type": "code",
      "execution_count": null,
      "metadata": {},
      "outputs": [],
      "source": [
        "\n",
        "antarctic_number_of_captions =  2#@param {type: 'number'}\n",
        "\n",
        "!git clone https://github.com/dzryk/antarctic-captions.git\n",
        "%cd antarctic-captions/\n",
        "!git clone https://github.com/openai/CLIP\n",
        "!pip3 install gdown\n",
        "!pip3 install ftfy\n",
        "!pip3 install transformers\n",
        "!pip3 install git+https://github.com/PyTorchLightning/pytorch-lightning\n",
        "# Download models and cache\n",
        "\n",
        "!wget -m -np -c -U \"eye02\" -w 2 -P \"/content/drive/MyDrive/AI/models/antarctic-captions/\" -R \"index.html*\" \"https://the-eye.eu/public/AI/models/antarctic-captions/\"\n",
        "import argparse\n",
        "import io\n",
        "import numpy as np\n",
        "import torch\n",
        "import torch.nn as nn\n",
        "import requests\n",
        "import pytorch_lightning as pl\n",
        "import matplotlib.pyplot as plt\n",
        "import torchvision.transforms.functional as TVTFF\n",
        "\n",
        "from CLIP import clip\n",
        "from PIL import Image\n",
        "from pytorch_lightning.callbacks import ModelCheckpoint\n",
        "from torchvision.utils import make_grid\n",
        "\n",
        "import model\n",
        "import utils\n",
        "device = torch.device('cuda:0' if torch.cuda.is_available() else 'cpu')\n",
        "print('Using device:', device)\n",
        "# Helper functions\n",
        "def fetch(url_or_path):\n",
        "    if str(url_or_path).startswith('http://') or str(url_or_path).startswith('https://'):\n",
        "        r = requests.get(url_or_path)\n",
        "        r.raise_for_status()\n",
        "        fd = io.BytesIO()\n",
        "        fd.write(r.content)\n",
        "        fd.seek(0)\n",
        "        return fd\n",
        "    return open(url_or_path, 'rb')\n",
        "\n",
        "def load_image(img, preprocess):\n",
        "    img = Image.open(fetch(img))\n",
        "    return img, preprocess(img).unsqueeze(0).to(device)\n",
        "\n",
        "def show(imgs):\n",
        "    if not isinstance(imgs, list):\n",
        "        imgs = [imgs]\n",
        "    fix, axs = plt.subplots(ncols=len(imgs), squeeze=False)\n",
        "    for i, img in enumerate(imgs):\n",
        "        img = img.detach()\n",
        "        img = TVTFF.to_pil_image(img)\n",
        "        axs[0, i].imshow(np.asarray(img))\n",
        "        axs[0, i].set(xticklabels=[], yticklabels=[], xticks=[], yticks=[])\n",
        "\n",
        "def display_grid(imgs):\n",
        "    reshaped = [TVTFF.to_tensor(x.resize((256, 256))) for x in imgs]\n",
        "    show(make_grid(reshaped))\n",
        "    \n",
        "def clip_rescoring(args, net, candidates, x):\n",
        "    textemb = net.perceiver.encode_text(\n",
        "        clip.tokenize(candidates).to(args.device)).float()\n",
        "    textemb /= textemb.norm(dim=-1, keepdim=True)\n",
        "    similarity = (100.0 * x @ textemb.T).softmax(dim=-1)\n",
        "    _, indices = similarity[0].topk(args.num_return_sequences)\n",
        "    return [candidates[idx] for idx in indices[0]]\n",
        "\n",
        "def loader(args):\n",
        "    cache = []\n",
        "    with open(args.textfile) as f:\n",
        "        for line in f:\n",
        "            cache.append(line.strip())\n",
        "    cache_emb = np.load(args.embfile)\n",
        "    net = utils.load_ckpt(args)\n",
        "    net.cache = cache\n",
        "    net.cache_emb = torch.tensor(cache_emb).to(args.device)\n",
        "    preprocess = clip.load(args.clip_model, jit=False)[1]\n",
        "    return net, preprocess\n",
        "    \n",
        "def caption_image(path, args, net, preprocess):\n",
        "    print('in caption_image')\n",
        "    captions = []\n",
        "    img, mat = load_image(path, preprocess)\n",
        "    table, x = utils.build_table(mat.to(device), \n",
        "                        perceiver=net.perceiver,\n",
        "                        cache=net.cache,\n",
        "                        cache_emb=net.cache_emb,\n",
        "                        topk=args.topk,\n",
        "                        return_images=True)\n",
        "    table = net.tokenizer.encode(table[0], return_tensors='pt').to(device)\n",
        "    out = net.model.generate(table,\n",
        "                            do_sample=args.do_sample,\n",
        "                            num_beams=args.num_beams,\n",
        "                            temperature=args.temperature,\n",
        "                            top_p=args.top_p,\n",
        "                            num_return_sequences=args.num_return_sequences)\n",
        "    candidates = []\n",
        "    for seq in out:\n",
        "        candidates.append(net.tokenizer.decode(seq, skip_special_tokens=True))\n",
        "    captions = clip_rescoring(args, net, candidates, x[None,:])\n",
        "    for c in captions[:args.display]:\n",
        "        print(c)\n",
        "    #display_grid([img])\n",
        "    return captions\n",
        "# Settings\n",
        "antarctic_filedir='/content/drive/MyDrive/AI/models/antarctic-captions/the-eye.eu/public/AI/models/antarctic-captions'\n",
        "antarctic_args = argparse.Namespace(\n",
        "    ckpt=f'{antarctic_filedir}/-epoch=05-vloss=2.163.ckpt',\n",
        "    textfile=f'{antarctic_filedir}/postcache.txt',\n",
        "    embfile=f'{antarctic_filedir}/postcache.npy',\n",
        "    clip_model='ViT-B/16',\n",
        "    topk=10,\n",
        "    num_return_sequences=1000,\n",
        "    num_beams=1,\n",
        "    temperature=1.0,\n",
        "    top_p=1.0,\n",
        "    display=antarctic_number_of_captions,\n",
        "    do_sample=True,\n",
        "    device=device\n",
        ")\n",
        "# Load checkpoint and preprocessor\n",
        "antarctic_net, antarctic_preprocess = loader(antarctic_args)\n",
        "%cd ..\n",
        "\n"
      ]
    },
    {
      "cell_type": "markdown",
      "metadata": {},
      "source": [
        "# Run the main loop for Object Detection And Antarctic Prompts"
      ]
    },
    {
      "cell_type": "code",
      "execution_count": null,
      "metadata": {
        "id": "kwGJV96WWBLH"
      },
      "outputs": [],
      "source": []
    },
    {
      "cell_type": "code",
      "execution_count": null,
      "metadata": {
        "id": "n1zMJvsaa7SZ"
      },
      "outputs": [
        {
          "ename": "NameError",
          "evalue": "name 'object_detection_request_directory' is not defined",
          "output_type": "error",
          "traceback": [
            "\u001b[1;31m---------------------------------------------------------------------------\u001b[0m",
            "\u001b[1;31mNameError\u001b[0m                                 Traceback (most recent call last)",
            "\u001b[1;32mc:\\Users\\Hatice ŞEREMET\\projects\\Pop-Diffusion\\object_detection_TPU.ipynb Cell 18'\u001b[0m in \u001b[0;36m<cell line: 8>\u001b[1;34m()\u001b[0m\n\u001b[0;32m      <a href='vscode-notebook-cell:/c%3A/Users/Hatice%20%C5%9EEREMET/projects/Pop-Diffusion/object_detection_TPU.ipynb#ch0000017?line=4'>5</a>\u001b[0m start_time \u001b[39m=\u001b[39m time\u001b[39m.\u001b[39mtime()\n\u001b[0;32m      <a href='vscode-notebook-cell:/c%3A/Users/Hatice%20%C5%9EEREMET/projects/Pop-Diffusion/object_detection_TPU.ipynb#ch0000017?line=6'>7</a>\u001b[0m \u001b[39m#if request_directory does not exist, create it\u001b[39;00m\n\u001b[1;32m----> <a href='vscode-notebook-cell:/c%3A/Users/Hatice%20%C5%9EEREMET/projects/Pop-Diffusion/object_detection_TPU.ipynb#ch0000017?line=7'>8</a>\u001b[0m \u001b[39mif\u001b[39;00m \u001b[39mnot\u001b[39;00m os\u001b[39m.\u001b[39mpath\u001b[39m.\u001b[39mexists(object_detection_request_directory):\n\u001b[0;32m      <a href='vscode-notebook-cell:/c%3A/Users/Hatice%20%C5%9EEREMET/projects/Pop-Diffusion/object_detection_TPU.ipynb#ch0000017?line=8'>9</a>\u001b[0m     os\u001b[39m.\u001b[39mmakedirs(object_detection_request_directory)\n\u001b[0;32m     <a href='vscode-notebook-cell:/c%3A/Users/Hatice%20%C5%9EEREMET/projects/Pop-Diffusion/object_detection_TPU.ipynb#ch0000017?line=9'>10</a>\u001b[0m \u001b[39mwhile\u001b[39;00m \u001b[39mTrue\u001b[39;00m:\n\u001b[0;32m     <a href='vscode-notebook-cell:/c%3A/Users/Hatice%20%C5%9EEREMET/projects/Pop-Diffusion/object_detection_TPU.ipynb#ch0000017?line=10'>11</a>\u001b[0m   \u001b[39m#while request_directory is empty\u001b[39;00m\n",
            "\u001b[1;31mNameError\u001b[0m: name 'object_detection_request_directory' is not defined"
          ]
        }
      ],
      "source": [
        "import time\n",
        "import sys \n",
        "timeout_minutes=120 #@param {type:\"integer\"}\n",
        "#how to count the time that spends on while loop\n",
        "start_time = time.time()\n",
        "\n",
        "object_detection_request_directory = '/content/drive/MyDrive/AI/Object_Detection/request'\n",
        "antarctic_prompt_request_directory = '/content/drive/MyDrive/AI/antarctic_prompt/request/'\n",
        "\n",
        "#if request_directory does not exist, create it\n",
        "if not os.path.exists(object_detection_request_directory):\n",
        "    os.makedirs(object_detection_request_directory)\n",
        "if not os.path.exists(antarctic_prompt_request_directory):\n",
        "    os.makedirs(antarctic_prompt_request_directory)\n",
        "while True:\n",
        "  #while request_directory is empty\n",
        "  while len(os.listdir(object_detection_request_directory)) == 0 and len(os.listdir(antarctic_prompt_request_directory)) == 0:\n",
        "      time.sleep(1)\n",
        "      if (time.time() - start_time) > timeout_minutes*60:\n",
        "          print('timeout')\n",
        "          sys.exit()\n",
        "\n",
        "  #check for an image to be object_detected\n",
        "  if len(os.listdir(object_detection_request_directory)) > 0:\n",
        "    for file in os.listdir(object_detection_request_directory):\n",
        "      if file.endswith('.png'):\n",
        "        file_name = file\n",
        "        resized = download_and_resize_image(f'/content/drive/MyDrive/AI/Object_Detection/request/{file_name}', 256, 256, False)\n",
        "        run_detector(detector, resized)\n",
        "        #delete the file in the request_directory\n",
        "        os.remove(f'/content/drive/MyDrive/AI/Object_Detection/request/{file_name}')\n",
        "        start_time = time.time()\n",
        "\n",
        "  #check for an image to have a prompt written for it\n",
        "  if len(os.listdir(antarctic_prompt_request_directory)) > 0:\n",
        "    for file in os.listdir(antarctic_prompt_request_directory):\n",
        "      if file.endswith('.png'):\n",
        "        init_image = antarctic_prompt_request_directory + 'init_image.png'\n",
        "        new_antarctic_prompts = caption_image(init_image, antarctic_args, antarctic_net, antarctic_preprocess)[:antarctic_number_of_captions]\n",
        "        #create a text file in the antarctic_prompt_request_directory with the new antarctic prompts\n",
        "        #join new_anarctic_prompts with a ; and print it\n",
        "        print(';'.join(new_antarctic_prompts))\n",
        "        with open(antarctic_prompt_request_directory + 'antarctic_prompts.txt', 'w') as f:\n",
        "          for prompt in new_antarctic_prompts:\n",
        "            f.write(prompt)\n",
        "        os.remove(antarctic_prompt_request_directory + 'init_image.png')\n",
        "        #testing\n",
        "        start_time = time.time()\n"
      ]
    }
  ],
  "metadata": {
    "accelerator": "TPU",
    "colab": {
      "collapsed_sections": [],
      "name": "Object_detection.ipynb",
      "private_outputs": true,
      "provenance": []
    },
    "kernelspec": {
      "display_name": "Python 3.10.2 64-bit (system)",
      "language": "python",
      "name": "python3"
    },
    "language_info": {
      "codemirror_mode": {
        "name": "ipython",
        "version": 3
      },
      "file_extension": ".py",
      "mimetype": "text/x-python",
      "name": "python",
      "nbconvert_exporter": "python",
      "pygments_lexer": "ipython3",
      "version": "3.10.2"
    },
    "vscode": {
      "interpreter": {
        "hash": "53f863a9f451e7000b4b9b9d7d88bc8be771f20c6dcbef3c744fc7109f2868eb"
      }
    }
  },
  "nbformat": 4,
  "nbformat_minor": 0
}
