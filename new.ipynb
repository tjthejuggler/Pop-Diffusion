{
 "cells": [
  {
   "cell_type": "code",
   "execution_count": null,
   "metadata": {},
   "outputs": [],
   "source": [
    "list=['1','2','3','4','5','6','7','8','9','10']\n",
    "for i in list:\n",
    "    a=i #@param {type:\"string\"} \n",
    "    print('i',a)\n",
    "#how to use param in print function\n",
    "diffusion_model = \"512x512_diffusion_uncond_finetune_008100\" #@param [\"256x256_diffusion_uncond\", \"512x512_diffusion_uncond_finetune_008100\"]\n",
    "\n"
   ]
  },
  {
   "cell_type": "code",
   "execution_count": 5,
   "metadata": {},
   "outputs": [
    {
     "data": {
      "application/vnd.jupyter.widget-view+json": {
       "model_id": "8fbdc3e21f2f4409b238edfe5d02e2ba",
       "version_major": 2,
       "version_minor": 0
      },
      "text/plain": [
       "interactive(children=(Select(description='country', options=('USA', 'Russia'), value='USA'), Output()), _dom_c…"
      ]
     },
     "metadata": {},
     "output_type": "display_data"
    },
    {
     "data": {
      "application/vnd.jupyter.widget-view+json": {
       "model_id": "8db04ee8e17a48b09f6f47275b47ac30",
       "version_major": 2,
       "version_minor": 0
      },
      "text/plain": [
       "interactive(children=(Select(description='city', options=('CHI', 'NYC'), value='CHI'), Output()), _dom_classes…"
      ]
     },
     "metadata": {},
     "output_type": "display_data"
    }
   ],
   "source": [
    "#from IPython.html import widgets\n",
    "from IPython.display import display\n",
    "import ipywidgets as widgets\n",
    "geo={'USA':['CHI','NYC'],'Russia':['MOW','LED']}\n",
    "\n",
    "\n",
    "\n",
    "def print_city(city):\n",
    "    print (city)\n",
    "\n",
    "def select_city(country):\n",
    "    cityW.options = geo[country]\n",
    "\n",
    "\n",
    "scW = widgets.Select(options=geo.keys())\n",
    "init = scW.value\n",
    "cityW = widgets.Select(options=geo[init])\n",
    "j = widgets.interactive(print_city, city=cityW)\n",
    "i = widgets.interactive(select_city, country=scW)\n",
    "display(i)\n",
    "display(j)"
   ]
  },
  {
   "cell_type": "code",
   "execution_count": 11,
   "metadata": {},
   "outputs": [],
   "source": [
    "import cv2\n",
    "import numpy as np\n",
    "from PIL import Image\n",
    "from PIL import ImageFont\n",
    "from PIL import ImageDraw \n",
    "from matplotlib import pyplot as plt\n",
    "\n",
    "opencv_image=cv2.imread(\"tiger.jpg\") # open image using openCV2\n",
    "#show image using CV2\n",
    "cv2.imwrite(\"fgdfhr.jpg\", opencv_image)\n",
    "# convert from openCV2 to PIL. Notice the COLOR_BGR2RGB which means that \n",
    "# the color is converted from BGR to RGB\n",
    "color_coverted = cv2.cvtColor(opencv_image, cv2.COLOR_BGR2RGB)\n",
    "pil_image=Image.fromarray(color_coverted)\n",
    "draw = ImageDraw.Draw(pil_image)\n",
    "# font = ImageFont.truetype(<font-file>, <font-size>)\n",
    "font = ImageFont.truetype(\"arial.ttf\", 36)\n",
    "# draw.text((x, y),\"Sample Text\",(r,g,b))\n",
    "draw.text((0, 0),\"Sample İİİİText\",(255,255,255),font=font)\n",
    "pil_image.show()\n",
    "pil_image.save('sample-out.png')\n",
    "opencv_image=np.array(pil_image)\n",
    "opencv_image=opencv_image[:,:,::-1].copy()\n",
    "#save a cv2 image\n",
    "#cv2.imwrite(\"Ohwl.png\", opencv_image)"
   ]
  },
  {
   "cell_type": "code",
   "execution_count": null,
   "metadata": {},
   "outputs": [],
   "source": [
    "from requests import get\n",
    "import os\n",
    "import json\n",
    "dir = os.path.dirname(os.path.realpath(\"_file_\"))\n",
    "print(dir)\n",
    "dir = '/content/drive/MyDrive/Colab Notebooks'\n",
    "filename = get('http://172.28.0.2:9000/api/sessions').json()[0]['name']\n",
    "print(dir +'/' + filename)\n",
    "with open(dir +'/' + filename, 'r') as f:\n",
    "    s = f.read()\n",
    "    print(s)\n",
    "json_file=open(dir +'/' + filename)\n",
    "data = json.load(json_file)\n",
    "print(data.keys())\n",
    "for key in data.keys():\n",
    "  print(data[key])\n",
    "for key in data[\"cells\"][0]:\n",
    "  print(key, data[\"cells\"][0][key])\n",
    "\n",
    "print(key, data[\"cells\"][0][\"source\"].split('\\n').split('#this')[1])\n",
    "\n",
    "#this comment is used to indicate the beginning of prompt creation DONT CHANGE!!!!\n",
    "people_artists = ['Edward Burne-Jones', 'Karol Bak', 'Jeff Easley', 'Brian Froud', 'Wendy Froud', 'Peter Gric', 'Jim Burns', 'Michael Whelan', 'Tyler Edlin', 'H.P. Lovecraft', 'Tim Burton', 'Yoshitaka Amano', 'Wes Anderson', 'Esao Andrews', 'Giuseppe Arcimboldo', 'Banksy', 'Ivan Bilibin', 'Alexander Bogen', 'Sandro Botticelli', 'Caravaggio', 'Camille Corot', 'Walter Crane', 'Geof Darrow', 'Eugene Delacroix', 'Paul Delvaux', 'Edmund Dulac', 'Albrecht Dürer', 'Larry Elmore', 'John Philip Falter', 'Caspar David Friedrich', 'Francisco Goya', 'Rebecca Guay', 'Winslow Homer', 'Edward Hopper', 'Frida Kahlo', 'Gustav Klimt', 'Ilya Kuvshinov', 'Rene Magritte', 'Don Maitz', 'John Martin', 'Peter Max', 'Robert McCall', 'Ralph McQuarrie', 'Frank Miller', 'Moebius', 'Chris Moore', 'Alphonse Mucha', 'Ted Nasmith', 'Victo Ngai', 'Rafal Olbinski', 'Diego Rivera', 'Hubert Robert', 'Andreas Rocha', 'Norman Rockwell', 'Egon Schiele', 'Ivan Shishkin', 'Marc Simonetti', 'Zack Snyder', 'Joaquín Sorolla', 'Simon Stalenhag', 'Ross Tran', 'Vincent Van Gogh', 'Rembrandt van Rijn', 'Ron Walotsky', 'Andy Warhol', 'Liam Wong', 'Yuumei', 'Amir Zand', 'Edgar Degas', 'Asher Brown Durand', 'Giovanni Battista Gaulli', 'Donato Giancola', 'John Atkinson Grimshaw', 'James Gurney', 'Jamie Hewlett', 'Ernst Ludwig Kirchner', 'Claude Monet', 'Igor Morski', 'Victor Moscoso', 'Craig Mullins', 'Nicholas Roerich', 'Hans Baldung', 'John Bauer', 'Julie Bell', 'Hans Bellmer', 'Mary Blair', 'William Blake', 'Victor Brauner', 'Gaston Bussière', 'Claude Cahun', 'Clyde Caldwell', 'Canaletto', 'Marcel Chagall', 'James C. Christensen', 'Giorgio de Chirico', 'Evelyn De Morgan', 'Henri de Toulouse-Lautrec', 'Gustave Doré', 'Jesper Ejsing', 'Harold Elliott', 'Anton Otto Fischer', 'Art Fitzpatrick', 'Jean-Honoré Fragonard', 'Victoria Francés', 'Frank Frazetta', 'Josan Gonzalez', 'Bastien Lecouffe-Deharme', 'George Luks', 'Victor Adame Minguez', 'Peter Mohrbacher', 'Ilya Repin', 'RHADS', 'Masamune Shirow', 'Coby Whitmore', 'Alex Grey', 'Junji Ito', 'Mati Klarwein', 'Kazimir Malevich', 'Clovis Trouille', 'Diego Velázquez', 'Qian Xuan', 'Nele Zirnite', 'Simon Bisley', 'Pascal Blanché', 'Arnold Böcklin', 'Camille-Pierre Pambu Bodo', 'William-Adolphe Bouguereau', 'Eleanor Vere Boyle', 'Arik Brauer', 'Pieter Bruegel the Elder', 'Paul Cézanne', 'Leonardo da Vinci', 'Richard Dadd', 'Max Ernst', 'Kelly Freas', 'Ernst Fuchs', 'Henry Fuseli', 'Paul Gauguin', 'Emma Geary', 'Artemisia Gentileschi', 'Warwick Goble', 'Rob Gonsalves', 'Jane Graverol', 'Henriette Grindat', 'Matthias Grünewald', 'Thomas Häfner', 'Sydney Prior Hall', 'Keith Haring', 'Rudolf Hausner', 'Brothers Hildebrandt', 'Tim Hildebrandt', 'Greg Hildebrandt', 'William Hogarth', 'Kati Horna', 'Valentine Hugo', 'George Inness', 'Jarosław Jaśnikowski', 'Joe Jusko', 'Filippino Lippi', 'Bob Ringwood', 'Jakub Rozalski', 'Greg Rutkowski', 'Mike Winkelmann', 'Seb McKinnon', 'Daniel Merriam', 'Sylvain Sarrailh', 'Tom Lovell', 'Haddon Sundblom', 'Eddie Mendoza', 'Eugeniusz Zak', 'Frank Zappa', 'Pablo Dominguez', 'Cicely Mary Barker', 'Amy Brown', 'Stephanie Law', 'Neil Welliver', 'Child Hassam', 'Henri Matisse', 'Jules Dupré', 'Pieter Brueghel the Elder', 'Theodore Robinson', 'Alexei Savrasov', 'Arkhip Kuindzhi', 'Claude Lorraine', 'Pablo Amaringo', 'Pascal Blanche', 'Adam Varga', 'Android Jones', 'Simon Hennessey', 'Denis Peterson', 'Robert Bechtle', 'Gustavo Silva Nuez', 'Claudio Bravo', 'Gottfried Helnwein', 'István Sándorfi', 'Nestor Leynes', 'Franz Gertsch', 'Kareem Olamilekan', 'Dragan Malešević Tapi', 'Ian Hornak', 'Otto Duecker', 'Antoni Taulé', 'Willem van Veldhuizen', 'Andrey Lekarski', 'Walther Jervolino', 'Diego Koi', 'Allyssa Monks', 'Luiz Escanuela', 'Dirk Dzimirsky']\n",
    "import random\n",
    "random_artist = random.choice(people_artists)\n",
    "text_prompts = {}\n",
    "\n",
    "for i in range(50):\n",
    "  text_prompts[i] = [\n",
    "            \"Beautiful detailed portrait of an animal demigoddess by Nick Silva,\" +random.choice(people_artists)+\", \"+random.choice(people_artists)+\", Symmetrical composition with people centered, trending on artstation, colorized:4\",\n",
    "            \"text:-2\",\n",
    "            \"glasses:-1\",\n",
    "            \"color:1\"\n",
    "        ]\n",
    "\n",
    "image_prompts = {\n",
    "    # 0:['ImagePromptsWorkButArentVeryGood.png:2',],\n",
    "}\n",
    "#this comment is used to indicate the end of prompt creation DONT CHANGE!!!!"
   ]
  },
  {
   "cell_type": "code",
   "execution_count": 24,
   "metadata": {},
   "outputs": [
    {
     "name": "stdout",
     "output_type": "stream",
     "text": [
      "{3: ['5', '4', 'dog', 'cat'], 2: ['1', '0', 'dog', 'cat']}\n"
     ]
    }
   ],
   "source": [
    "# make a dict has int keys and list values\n",
    "dict_of_prompt_generator_lists = {3:[\"5\",\"4\"],2:[\"1\",\"0\"]}\n",
    "#add dog string into list in dict\n",
    "for key in dict_of_prompt_generator_lists:\n",
    "  dict_of_prompt_generator_lists[key].extend([\"dog\",\"cat\"])\n",
    "print(dict_of_prompt_generator_lists)"
   ]
  },
  {
   "cell_type": "code",
   "execution_count": null,
   "metadata": {},
   "outputs": [],
   "source": [
    "print(\"hi\")"
   ]
  },
  {
   "cell_type": "code",
   "execution_count": 26,
   "metadata": {},
   "outputs": [
    {
     "name": "stdout",
     "output_type": "stream",
     "text": [
      "\n",
      "Do you want to continue?\n"
     ]
    },
    {
     "ename": "KeyboardInterrupt",
     "evalue": "Interrupted by user",
     "output_type": "error",
     "traceback": [
      "\u001b[1;31m---------------------------------------------------------------------------\u001b[0m",
      "\u001b[1;31mKeyboardInterrupt\u001b[0m                         Traceback (most recent call last)",
      "\u001b[1;32mc:\\Users\\Hatice ŞEREMET\\projects\\Pop-Diffusion\\new.ipynb Cell 7'\u001b[0m in \u001b[0;36m<cell line: 3>\u001b[1;34m()\u001b[0m\n\u001b[0;32m      <a href='vscode-notebook-cell:/c%3A/Users/Hatice%20%C5%9EEREMET/projects/Pop-Diffusion/new.ipynb#ch0000009?line=0'>1</a>\u001b[0m \u001b[39mimport\u001b[39;00m \u001b[39msys\u001b[39;00m\u001b[39m,\u001b[39m\u001b[39mtime\u001b[39;00m\n\u001b[0;32m      <a href='vscode-notebook-cell:/c%3A/Users/Hatice%20%C5%9EEREMET/projects/Pop-Diffusion/new.ipynb#ch0000009?line=1'>2</a>\u001b[0m \u001b[39mprint\u001b[39m(\u001b[39m\"\u001b[39m\u001b[39m\\n\u001b[39;00m\u001b[39mDo you want to continue?\u001b[39m\u001b[39m\"\u001b[39m)\n\u001b[1;32m----> <a href='vscode-notebook-cell:/c%3A/Users/Hatice%20%C5%9EEREMET/projects/Pop-Diffusion/new.ipynb#ch0000009?line=2'>3</a>\u001b[0m user_input\u001b[39m=\u001b[39m\u001b[39minput\u001b[39;49m(\u001b[39m\"\u001b[39;49m\u001b[39myes/no: \u001b[39;49m\u001b[39m\"\u001b[39;49m)\n\u001b[0;32m      <a href='vscode-notebook-cell:/c%3A/Users/Hatice%20%C5%9EEREMET/projects/Pop-Diffusion/new.ipynb#ch0000009?line=3'>4</a>\u001b[0m \u001b[39mdef\u001b[39;00m \u001b[39minterrupt\u001b[39m(user_input):\n\u001b[0;32m      <a href='vscode-notebook-cell:/c%3A/Users/Hatice%20%C5%9EEREMET/projects/Pop-Diffusion/new.ipynb#ch0000009?line=4'>5</a>\u001b[0m     \u001b[39mif\u001b[39;00m user_input \u001b[39m==\u001b[39m \u001b[39m\"\u001b[39m\u001b[39myes\u001b[39m\u001b[39m\"\u001b[39m:\n",
      "File \u001b[1;32mc:\\Users\\Hatice ŞEREMET\\AppData\\Local\\Programs\\Python\\Python310\\lib\\site-packages\\ipykernel\\kernelbase.py:1177\u001b[0m, in \u001b[0;36mKernel.raw_input\u001b[1;34m(self, prompt)\u001b[0m\n\u001b[0;32m   1173\u001b[0m \u001b[39mif\u001b[39;00m \u001b[39mnot\u001b[39;00m \u001b[39mself\u001b[39m\u001b[39m.\u001b[39m_allow_stdin:\n\u001b[0;32m   1174\u001b[0m     \u001b[39mraise\u001b[39;00m StdinNotImplementedError(\n\u001b[0;32m   1175\u001b[0m         \u001b[39m\"\u001b[39m\u001b[39mraw_input was called, but this frontend does not support input requests.\u001b[39m\u001b[39m\"\u001b[39m\n\u001b[0;32m   1176\u001b[0m     )\n\u001b[1;32m-> 1177\u001b[0m \u001b[39mreturn\u001b[39;00m \u001b[39mself\u001b[39;49m\u001b[39m.\u001b[39;49m_input_request(\n\u001b[0;32m   1178\u001b[0m     \u001b[39mstr\u001b[39;49m(prompt),\n\u001b[0;32m   1179\u001b[0m     \u001b[39mself\u001b[39;49m\u001b[39m.\u001b[39;49m_parent_ident[\u001b[39m\"\u001b[39;49m\u001b[39mshell\u001b[39;49m\u001b[39m\"\u001b[39;49m],\n\u001b[0;32m   1180\u001b[0m     \u001b[39mself\u001b[39;49m\u001b[39m.\u001b[39;49mget_parent(\u001b[39m\"\u001b[39;49m\u001b[39mshell\u001b[39;49m\u001b[39m\"\u001b[39;49m),\n\u001b[0;32m   1181\u001b[0m     password\u001b[39m=\u001b[39;49m\u001b[39mFalse\u001b[39;49;00m,\n\u001b[0;32m   1182\u001b[0m )\n",
      "File \u001b[1;32mc:\\Users\\Hatice ŞEREMET\\AppData\\Local\\Programs\\Python\\Python310\\lib\\site-packages\\ipykernel\\kernelbase.py:1219\u001b[0m, in \u001b[0;36mKernel._input_request\u001b[1;34m(self, prompt, ident, parent, password)\u001b[0m\n\u001b[0;32m   1216\u001b[0m             \u001b[39mbreak\u001b[39;00m\n\u001b[0;32m   1217\u001b[0m \u001b[39mexcept\u001b[39;00m \u001b[39mKeyboardInterrupt\u001b[39;00m:\n\u001b[0;32m   1218\u001b[0m     \u001b[39m# re-raise KeyboardInterrupt, to truncate traceback\u001b[39;00m\n\u001b[1;32m-> 1219\u001b[0m     \u001b[39mraise\u001b[39;00m \u001b[39mKeyboardInterrupt\u001b[39;00m(\u001b[39m\"\u001b[39m\u001b[39mInterrupted by user\u001b[39m\u001b[39m\"\u001b[39m) \u001b[39mfrom\u001b[39;00m \u001b[39mNone\u001b[39m\n\u001b[0;32m   1220\u001b[0m \u001b[39mexcept\u001b[39;00m \u001b[39mException\u001b[39;00m:\n\u001b[0;32m   1221\u001b[0m     \u001b[39mself\u001b[39m\u001b[39m.\u001b[39mlog\u001b[39m.\u001b[39mwarning(\u001b[39m\"\u001b[39m\u001b[39mInvalid Message:\u001b[39m\u001b[39m\"\u001b[39m, exc_info\u001b[39m=\u001b[39m\u001b[39mTrue\u001b[39;00m)\n",
      "\u001b[1;31mKeyboardInterrupt\u001b[0m: Interrupted by user"
     ]
    }
   ],
   "source": [
    "\n",
    "import sys,time\n",
    "print(\"\\nDo you want to continue?\")\n",
    "user_input=input(\"yes/no: \")\n",
    "def interrupt(user_input):\n",
    "    if user_input == \"yes\":\n",
    "      sys.exit()\n",
    "    else:\n",
    "        print(\"ok\")\n",
    "    \n",
    "print(\"ssjs\")"
   ]
  },
  {
   "cell_type": "code",
   "execution_count": null,
   "metadata": {},
   "outputs": [],
   "source": [
    "print(\"by\")"
   ]
  },
  {
   "cell_type": "code",
   "execution_count": 28,
   "metadata": {},
   "outputs": [
    {
     "data": {
      "application/vnd.jupyter.widget-view+json": {
       "model_id": "c8d65be13cd3453ab6eb2ae9feeb3401",
       "version_major": 2,
       "version_minor": 0
      },
      "text/plain": [
       "GridBox(children=(Button(description='Click me', icon='check', style=ButtonStyle(), tooltip='Click me'),), lay…"
      ]
     },
     "metadata": {},
     "output_type": "display_data"
    }
   ],
   "source": [
    "# from jupyter_bbox_widget import BBoxWidget\n",
    "import ipywidgets as widgets\n",
    "# import os\n",
    "# import json\n",
    "# import base64\n",
    "def button_pressed():\n",
    "  print(\"button pressed\")\n",
    "  # dir = os.path.dirname(os.path.realpath(\"_file_\"))\n",
    "  # print(dir)\n",
    "  # dir = '/content/drive/MyDrive/Colab Notebooks'\n",
    "  # filename = get('http://\n",
    "\n",
    "button = widgets.Button(\n",
    "    description='Click me',\n",
    "    disabled=False,\n",
    "    button_style='', # 'success', 'info', 'warning', 'danger' or ''\n",
    "    tooltip='Click me',\n",
    "    icon='check' # (FontAwesome names without the `fa-` prefix)\n",
    ")\n",
    "button\n",
    "button.on_click(button_pressed)\n",
    "items = [button]\n",
    "box = widgets.GridBox(items, layout=widgets.Layout(grid_template_columns=\"repeat(2, 600px)\"), disabled =False)\n",
    "\n",
    "box"
   ]
  },
  {
   "cell_type": "code",
   "execution_count": 10,
   "metadata": {},
   "outputs": [
    {
     "name": "stdout",
     "output_type": "stream",
     "text": [
      "131073\n"
     ]
    }
   ],
   "source": [
    "def predict_number_of_interpolation_frames(frame_number,interpolation_number):\n",
    "    for i in range(interpolation_number):\n",
    "        prediction_number=(frame_number)*2-1\n",
    "        frame_number=prediction_number\n",
    "    return prediction_number\n",
    "print(predict_number_of_interpolation_frames(2,17))"
   ]
  },
  {
   "cell_type": "code",
   "execution_count": 4,
   "metadata": {},
   "outputs": [
    {
     "name": "stdout",
     "output_type": "stream",
     "text": [
      "['1962', '1962', '1986', '1963', '1962', '1974', '1941', '1963', '1966', '2007', '1964', '1982', '1962', '1940', '1974', '1966', '1972', '2004', '1940', '1964', '1990', '1963', '1968', '1975', '1963', '1941', '1990', '1975', '1967', '1939', '1976', '1975', '1962', '1973', '1973', '1979', '1961', '1963', '1962', '1975', '1963', '1963', '1964', '1970', '1963', '1976', '1961', '2004', '1981', '1963']\n",
      "\"Human Torch 1939\",\n",
      "\"Black Widow 1940\",\n",
      "\"Vision 1940\",\n",
      "\"Captain America 1941\",\n",
      "\"Bucky Barnes 1941\",\n",
      "\"Thing 1961\",\n",
      "\"Storm 1961\",\n",
      "\"Thor 1962\",\n",
      "\"Spider-Man 1962\",\n",
      "\"Hulk 1962\",\n",
      "\"Ant-Man 1962\",\n",
      "\"Odin 1962\",\n",
      "\"Daredevil 1962\",\n",
      "\"Iron Man 1963\",\n",
      "\"Doctor Strange 1963\",\n",
      "\"Phoenix 1963\",\n",
      "\"Professor X 1963\",\n",
      "\"Nick Fury 1963\",\n",
      "\"Beast 1963\",\n",
      "\"Iceman 1963\",\n",
      "\"Wasp 1963\",\n",
      "\"Cyclops 1963\",\n",
      "\"Scarlet Witch 1964\",\n",
      "\"Hawkeye 1964\",\n",
      "\"Quicksilver 1964\",\n",
      "\"Black Panther 1966\",\n",
      "\"Silver Surfer 1966\",\n",
      "\"Captain Marvel 1967\",\n",
      "\"Ms. Marvel 1968\",\n",
      "\"Valkyrie 1970\",\n",
      "\"Ghost Rider 1972\",\n",
      "\"Blade 1973\",\n",
      "\"Drax the Destroyer 1973\",\n",
      "\"Wolverine 1974\",\n",
      "\"Punisher 1974\",\n",
      "\"Nightcrawler 1975\",\n",
      "\"Colossus 1975\",\n",
      "\"Gamora 1975\",\n",
      "\"Moon Knight 1975\",\n",
      "\"Nova 1976\",\n",
      "\"Psylocke 1976\",\n",
      "\"War Machine 1979\",\n",
      "\"Rogue 1981\",\n",
      "\"Rocket Raccoon 1982\",\n",
      "\"Deadpool 1986\",\n",
      "\"Gambit 1990\",\n",
      "\"Cable 1990\",\n",
      "\"Star-Lord 2004\",\n",
      "\"X-23 2004\",\n",
      "\"Groot 2007\",\n"
     ]
    }
   ],
   "source": [
    "marvel_characters=[\n",
    "\"Thor 1962\",\n",
    "\"Spider-Man 1962\",\n",
    "\"Deadpool 1986\",\n",
    "\"Iron Man 1963\",\n",
    "\"Hulk 1962\",\n",
    "\"Wolverine 1974\",\n",
    "\"Captain America 1941\",\n",
    "\"Doctor Strange 1963\",\n",
    "\"Black Panther 1966\",\n",
    "\"Groot 2007\",\n",
    "\"Scarlet Witch 1964\",\n",
    "\"Rocket Raccoon 1982\",\n",
    "\"Ant-Man 1962\",\n",
    "\"Black Widow 1940\",\n",
    "\"Punisher 1974\",\n",
    "\"Silver Surfer 1966\",\n",
    "\"Ghost Rider 1972\",\n",
    "\"Star-Lord 2004\",\n",
    "\"Vision 1940\",\n",
    "\"Hawkeye 1964\",\n",
    "\"Gambit 1990\",\n",
    "\"Phoenix 1963\",\n",
    "\"Ms. Marvel 1968\",\n",
    "\"Nightcrawler 1975\",\n",
    "\"Professor X 1963\",\n",
    "\"Bucky Barnes 1941\",\n",
    "\"Cable 1990\",\n",
    "\"Colossus 1975\",\n",
    "\"Captain Marvel 1967\",\n",
    "\"Human Torch 1939\",\n",
    "\"Nova 1976\",\n",
    "\"Gamora 1975\",\n",
    "\"Odin 1962\",\n",
    "\"Blade 1973\",\n",
    "\"Drax the Destroyer 1973\",\n",
    "\"War Machine 1979\",\n",
    "\"Thing 1961\",\n",
    "\"Nick Fury 1963\",\n",
    "\"Daredevil 1962\",\n",
    "\"Moon Knight 1975\",\n",
    "\"Beast 1963\",\n",
    "\"Iceman 1963\",\n",
    "\"Quicksilver 1964\",\n",
    "\"Valkyrie 1970\",\n",
    "\"Wasp 1963\",\n",
    "\"Psylocke 1976\",\n",
    "\"Storm 1961\",\n",
    "\"X-23 2004\",\n",
    "\"Rogue 1981\",\n",
    "\"Cyclops 1963\"\n",
    "]\n",
    "marvel_characters_years_list = []\n",
    "for character in marvel_characters:\n",
    "    marvel_characters_years_list.append(character.split(\" \")[-1])\n",
    "print(marvel_characters_years_list)\n",
    "# print(len(marvel_characters_years_list))\n",
    "# print(len(marvel_characters))\n",
    "\n",
    "\n",
    "#make a dictionary with new_year_list as the keys and marvel_characters as the values\n",
    "marvel_characters_years_dict = {}\n",
    "for i in range(len(marvel_characters_years_list)):\n",
    "    marvel_characters_years_dict[marvel_characters[i]] =marvel_characters_years_list[i]\n",
    "#print(marvel_characters_years_dict)\n",
    "#reorder the dictionary by the numeric value of the keys\n",
    "marvel_characters_years_dict_new = sorted(marvel_characters_years_dict, key=lambda i: int(marvel_characters_years_dict[i]))\n",
    "for item in marvel_characters_years_dict_new:\n",
    "    print('\"'+item+'\",')"
   ]
  }
 ],
 "metadata": {
  "kernelspec": {
   "display_name": "Python 3.10.2 64-bit (system)",
   "language": "python",
   "name": "python3"
  },
  "language_info": {
   "codemirror_mode": {
    "name": "ipython",
    "version": 3
   },
   "file_extension": ".py",
   "mimetype": "text/x-python",
   "name": "python",
   "nbconvert_exporter": "python",
   "pygments_lexer": "ipython3",
   "version": "3.10.2"
  },
  "orig_nbformat": 4,
  "vscode": {
   "interpreter": {
    "hash": "53f863a9f451e7000b4b9b9d7d88bc8be771f20c6dcbef3c744fc7109f2868eb"
   }
  }
 },
 "nbformat": 4,
 "nbformat_minor": 2
}
